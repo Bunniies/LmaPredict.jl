{
 "cells": [
  {
   "cell_type": "code",
   "execution_count": 3,
   "id": "df920fd3",
   "metadata": {
    "scrolled": true
   },
   "outputs": [
    {
     "name": "stderr",
     "output_type": "stream",
     "text": [
      "\u001b[36m\u001b[1m[ \u001b[22m\u001b[39m\u001b[36m\u001b[1mInfo: \u001b[22m\u001b[39mPrecompiling LmaPredict [4056ae44-f597-46f1-96e9-cdb3146ed00e]\n"
     ]
    }
   ],
   "source": [
    "using LmaPredict"
   ]
  },
  {
   "cell_type": "markdown",
   "id": "0ee750d0",
   "metadata": {},
   "source": [
    "### Reading indivudual contributions to LMA\n",
    "\n",
    "    - rest-rest contribution for a given gamma structure and source position\n",
    "    - rest-eigen contribution for a given gamma structure and source position\n",
    "    - eigen-eigen for a given gamma structure and all detected source positions\n",
    "    \n",
    "    "
   ]
  },
  {
   "cell_type": "code",
   "execution_count": 4,
   "id": "9b304f77",
   "metadata": {},
   "outputs": [
    {
     "data": {
      "text/plain": [
       "48-element Vector{Any}:\n",
       " 1.652337397735949\n",
       " 0.2748300302109566\n",
       " 0.1015618982958418\n",
       " 0.05080116971696343\n",
       " 0.03124367783734126\n",
       " 0.02132219422276394\n",
       " 0.01528383930552876\n",
       " 0.01159019404699261\n",
       " 0.009008895344098653\n",
       " 0.007047078156238364\n",
       " 0.00551087171065601\n",
       " 0.00429355555224546\n",
       " 0.003293679171396881\n",
       " ⋮\n",
       " 0.003037282669863109\n",
       " 0.003796527515033003\n",
       " 0.00478399822495194\n",
       " 0.006424961965035504\n",
       " 0.008624934864613035\n",
       " 0.01140612743918827\n",
       " 0.01572911266357977\n",
       " 0.022377280167901\n",
       " 0.03284168560019328\n",
       " 0.05273717619846126\n",
       " 0.1035130272335097\n",
       " 0.2760264540172492"
      ]
     },
     "execution_count": 4,
     "metadata": {},
     "output_type": "execute_result"
    }
   ],
   "source": [
    "# rr \n",
    "pp_rr = \"/Users/alessandroconigli/Lattice/data/HVP/LMA/A654/1/A654r000n1.mseigPArr_ts0.dat\"\n",
    "dat_rr = read_rest_rest(pp_rr, \"g5-g5\")\n"
   ]
  },
  {
   "cell_type": "code",
   "execution_count": 5,
   "id": "028630dd",
   "metadata": {},
   "outputs": [
    {
     "data": {
      "text/plain": [
       "(Any[0.01178251690222043, 0.006877402581714101, 0.005569878884918977, 0.004262163779117671, 0.002883030833509988, 0.001726902904002465, 0.0006069974427652235, -0.0002730610956660961, -0.0009513818553962988, -0.001395550120156555  …  -0.001475753802607369, -0.001185226047766073, -0.0007133350886935274, -0.0001768173272212349, 0.0009807634482470757, 0.00228704594286794, 0.003522388328362983, 0.004690474084720609, 0.006000620264814476, 0.007532610763665865], Any[-2.042324666569527e-9, 3.362188387881727e-9, 7.933303119296075e-9, 6.201575881598345e-9, 3.365564188129322e-9, 1.869654733212269e-9, 3.25034421991731e-9, 6.559574340086769e-9, 6.230288685978167e-9, 3.467819238151036e-9  …  -1.704384679643752e-8, -1.88163079797882e-8, -2.015814359499591e-8, -2.033219019573446e-8, -1.984851254880651e-8, -1.707047080435142e-8, -1.326717917893915e-8, -9.120652167511808e-9, -6.705067917657454e-9, -5.216116860175546e-9])"
      ]
     },
     "execution_count": 5,
     "metadata": {},
     "output_type": "execute_result"
    }
   ],
   "source": [
    "# re\n",
    "pp_re = \"/Users/alessandroconigli/Lattice/data/HVP/LMA/A654/1/A654r000n1.mseigPAre_ts0.dat\"\n",
    "# no bias correction\n",
    "data_re = read_rest_eigen(pp_re, \"g5-g5\", bc=false)\n",
    "\n",
    "# read bias correction\n",
    "data_re, data_re_bc = read_rest_eigen(pp_re, \"g5-g5\", bc=true)\n",
    "\n",
    "\n"
   ]
  },
  {
   "cell_type": "code",
   "execution_count": 8,
   "id": "245046e3",
   "metadata": {},
   "outputs": [
    {
     "data": {
      "text/plain": [
       "OrderedCollections.OrderedDict{String, Vector{Float64}} with 48 entries:\n",
       "  \"0\"  => [0.0386712, 0.0387077, 0.0380369, 0.034445, 0.0316261, 0.0287538, 0.0…\n",
       "  \"1\"  => [0.0400083, 0.0402682, 0.0371904, 0.0347628, 0.0321044, 0.0292377, 0.…\n",
       "  \"2\"  => [0.0417656, 0.0395487, 0.037494, 0.0351515, 0.0324155, 0.0279248, 0.0…\n",
       "  \"3\"  => [0.0384447, 0.037248, 0.0356719, 0.0334386, 0.029146, 0.0262732, 0.02…\n",
       "  \"4\"  => [0.0372136, 0.0366168, 0.0349954, 0.030834, 0.0281069, 0.0263807, 0.0…\n",
       "  \"5\"  => [0.037072, 0.0362013, 0.0322532, 0.0296628, 0.0280663, 0.0263866, 0.0…\n",
       "  \"6\"  => [0.0359932, 0.0324944, 0.0301525, 0.0286953, 0.0271143, 0.0247938, 0.…\n",
       "  \"7\"  => [0.0303266, 0.0287632, 0.0277583, 0.0266159, 0.0247636, 0.0214734, 0.…\n",
       "  \"8\"  => [0.0278697, 0.0273708, 0.0268152, 0.0254994, 0.0225107, 0.0195668, 0.…\n",
       "  \"9\"  => [0.0274218, 0.0275302, 0.0267964, 0.0240978, 0.0213606, 0.0203284, 0.…\n",
       "  \"10\" => [0.0285514, 0.0285839, 0.0262089, 0.0236873, 0.0229299, 0.0210481, 0.…\n",
       "  \"11\" => [0.0293575, 0.0274561, 0.025316, 0.0249347, 0.0231159, 0.0201065, 0.0…\n",
       "  \"12\" => [0.026359, 0.0249193, 0.0251605, 0.0237066, 0.020805, 0.0171139, 0.01…\n",
       "  \"13\" => [0.0242041, 0.0250419, 0.024021, 0.0213795, 0.0177626, 0.0150879, 0.0…\n",
       "  \"14\" => [0.0266197, 0.0260709, 0.0235469, 0.0197421, 0.0169399, 0.0147726, 0.…\n",
       "  \"15\" => [0.0261578, 0.024186, 0.0206639, 0.0180493, 0.0161114, 0.0147291, 0.0…\n",
       "  \"16\" => [0.023098, 0.0203827, 0.0183207, 0.0168564, 0.0158008, 0.0154297, 0.0…\n",
       "  \"17\" => [0.0187766, 0.017506, 0.0166534, 0.0160232, 0.0159488, 0.0163929, 0.0…\n",
       "  \"18\" => [0.0169001, 0.0166022, 0.0163907, 0.0166537, 0.0173525, 0.0178545, 0.…\n",
       "  \"19\" => [0.0168884, 0.0171411, 0.0178143, 0.0188527, 0.0195893, 0.0192557, 0.…\n",
       "  \"20\" => [0.017873, 0.0190249, 0.0205776, 0.0216811, 0.0214118, 0.019716, 0.01…\n",
       "  \"21\" => [0.0207781, 0.0230807, 0.0247214, 0.0245582, 0.0226239, 0.0205957, 0.…\n",
       "  \"22\" => [0.0265433, 0.0289795, 0.028941, 0.0265463, 0.0241183, 0.0217965, 0.0…\n",
       "  \"23\" => [0.0320204, 0.0321949, 0.029608, 0.0269985, 0.0244797, 0.0227626, 0.0…\n",
       "  \"24\" => [0.0327629, 0.030554, 0.0282395, 0.0259781, 0.0244235, 0.0228998, 0.0…\n",
       "  ⋮    => ⋮"
      ]
     },
     "execution_count": 8,
     "metadata": {},
     "output_type": "execute_result"
    }
   ],
   "source": [
    "# ee\n",
    "pp_ee = \"/Users/alessandroconigli/Lattice/data/HVP/LMA/A654/1/A654r000n1.mseigPAee.dat\"\n",
    "data_ee = read_eigen_eigen(pp_ee, \"g5-g5\")\n"
   ]
  },
  {
   "cell_type": "markdown",
   "id": "4cf41c5f",
   "metadata": {},
   "source": [
    "### Reading all contributions and detected noise sources detected\n",
    "\n",
    "In practice it can be useful to read simultaneously all the possible \"rr\", \"re\" and \"ee\" contributions for a given config, a given gamma structure and all the source position detected. This is achieved with the `get_LMAConfig` method, that returns a `LMAConfig` struct containing all the data\n"
   ]
  },
  {
   "cell_type": "code",
   "execution_count": 9,
   "id": "ca4f8de4",
   "metadata": {},
   "outputs": [
    {
     "data": {
      "text/plain": [
       "LMAConfig\n",
       " - Ncnfg :        1\n",
       " - Gamma :        g5-g5\n",
       " - Eigen modes :  32\n"
      ]
     },
     "execution_count": 9,
     "metadata": {},
     "output_type": "execute_result"
    }
   ],
   "source": [
    "path_config = \"/Users/alessandroconigli/Lattice/data/HVP/LMA/A654/1\"\n",
    "lmacnfg = get_LMAConfig(path_config, \"g5-g5\", em=\"PA\", bc=true) \n",
    "# here em=\"PA\" or em=\"VV\" selects between 32 and 64 eigenmodes, respectively. bc set to true reads the bias correction for \"re\" contribution"
   ]
  },
  {
   "cell_type": "code",
   "execution_count": 12,
   "id": "bd37bfd2",
   "metadata": {},
   "outputs": [
    {
     "data": {
      "text/plain": [
       "1"
      ]
     },
     "execution_count": 12,
     "metadata": {},
     "output_type": "execute_result"
    }
   ],
   "source": [
    "# configuration analysed\n",
    "lmacnfg.ncnfg"
   ]
  },
  {
   "cell_type": "code",
   "execution_count": 13,
   "id": "72cc4da8",
   "metadata": {},
   "outputs": [
    {
     "data": {
      "text/plain": [
       "\"g5-g5\""
      ]
     },
     "execution_count": 13,
     "metadata": {},
     "output_type": "execute_result"
    }
   ],
   "source": [
    "# selected gamma structure \n",
    "lmacnfg.gamma"
   ]
  },
  {
   "cell_type": "code",
   "execution_count": 14,
   "id": "eb9dbe3d",
   "metadata": {},
   "outputs": [
    {
     "data": {
      "text/plain": [
       "32"
      ]
     },
     "execution_count": 14,
     "metadata": {},
     "output_type": "execute_result"
    }
   ],
   "source": [
    "# number of eigenmodes\n",
    "lmacnfg.eigmodes"
   ]
  },
  {
   "cell_type": "code",
   "execution_count": 15,
   "id": "d22068da",
   "metadata": {},
   "outputs": [
    {
     "data": {
      "text/plain": [
       "Dict{Any, Any} with 4 entries:\n",
       "  \"rr\"    => OrderedCollections.OrderedDict(\"0\"=>[1.65234, 0.27483, 0.101562, 0…\n",
       "  \"ee\"    => OrderedCollections.OrderedDict(\"0\"=>[0.0386712, 0.0387077, 0.03803…\n",
       "  \"re\"    => OrderedCollections.OrderedDict(\"0\"=>[0.0117825, 0.0068774, 0.00556…\n",
       "  \"re_bc\" => OrderedCollections.OrderedDict(\"0\"=>[-2.04232e-9, 3.36219e-9, 7.93…"
      ]
     },
     "execution_count": 15,
     "metadata": {},
     "output_type": "execute_result"
    }
   ],
   "source": [
    "# accessing the data\n",
    "lmacnfg.data # dictionary with an entry for each possible contribution"
   ]
  },
  {
   "cell_type": "code",
   "execution_count": 17,
   "id": "bf1743f0",
   "metadata": {},
   "outputs": [
    {
     "data": {
      "text/plain": [
       "OrderedCollections.OrderedDict{String, Vector{Float64}} with 4 entries:\n",
       "  \"0\"  => [1.65234, 0.27483, 0.101562, 0.0508012, 0.0312437, 0.0213222, 0.01528…\n",
       "  \"12\" => [1.66169, 0.275943, 0.102233, 0.0523037, 0.0320411, 0.021179, 0.01470…\n",
       "  \"24\" => [1.64655, 0.27278, 0.100716, 0.0516889, 0.0322017, 0.0224355, 0.01668…\n",
       "  \"36\" => [1.65034, 0.27246, 0.096686, 0.0483482, 0.0295932, 0.0197918, 0.01413…"
      ]
     },
     "execution_count": 17,
     "metadata": {},
     "output_type": "execute_result"
    }
   ],
   "source": [
    "# within a given contribution, you can access the available source positions\n",
    "lmacnfg.data[\"rr\"] # in this case we have 4 possible source positions at 0, 12, 24, 36"
   ]
  },
  {
   "cell_type": "code",
   "execution_count": 18,
   "id": "1089164d",
   "metadata": {},
   "outputs": [
    {
     "data": {
      "text/plain": [
       "48-element Vector{Float64}:\n",
       " 1.652337397735949\n",
       " 0.2748300302109566\n",
       " 0.1015618982958418\n",
       " 0.05080116971696343\n",
       " 0.03124367783734126\n",
       " 0.02132219422276394\n",
       " 0.01528383930552876\n",
       " 0.01159019404699261\n",
       " 0.009008895344098653\n",
       " 0.007047078156238364\n",
       " 0.00551087171065601\n",
       " 0.00429355555224546\n",
       " 0.003293679171396881\n",
       " ⋮\n",
       " 0.003037282669863109\n",
       " 0.003796527515033003\n",
       " 0.00478399822495194\n",
       " 0.006424961965035504\n",
       " 0.008624934864613035\n",
       " 0.01140612743918827\n",
       " 0.01572911266357977\n",
       " 0.022377280167901\n",
       " 0.03284168560019328\n",
       " 0.05273717619846126\n",
       " 0.1035130272335097\n",
       " 0.2760264540172492"
      ]
     },
     "execution_count": 18,
     "metadata": {},
     "output_type": "execute_result"
    }
   ],
   "source": [
    "# actual rr contributions for source position 0\n",
    "lmacnfg.data[\"rr\"][\"0\"]"
   ]
  },
  {
   "cell_type": "code",
   "execution_count": null,
   "id": "7202e7b9",
   "metadata": {},
   "outputs": [],
   "source": []
  }
 ],
 "metadata": {
  "kernelspec": {
   "display_name": "Julia 1.7.3",
   "language": "julia",
   "name": "julia-1.7"
  },
  "language_info": {
   "file_extension": ".jl",
   "mimetype": "application/julia",
   "name": "julia",
   "version": "1.7.3"
  }
 },
 "nbformat": 4,
 "nbformat_minor": 5
}
