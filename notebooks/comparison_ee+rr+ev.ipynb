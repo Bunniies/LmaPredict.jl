{
 "cells": [
  {
   "cell_type": "markdown",
   "metadata": {},
   "source": [
    "# Comparing different Neural Networks\n",
    "\n",
    "Each Network uses a vector of the eigen-eigen parts, the rest-rest parts and the eigenvalues and computes the rest-eigen contribution"
   ]
  },
  {
   "cell_type": "code",
   "execution_count": null,
   "metadata": {},
   "outputs": [],
   "source": [
    "using LmaPredict, Flux, Statistics"
   ]
  },
  {
   "cell_type": "markdown",
   "metadata": {},
   "source": [
    "## Reading the data"
   ]
  },
  {
   "cell_type": "code",
   "execution_count": null,
   "metadata": {},
   "outputs": [],
   "source": [
    "const path_config = \"/Users/lukasgeyer/Studium/Computational Sciences/Masterarbeit/Daten Simon/dat\"\n",
    "const path_plot = \"../plots\""
   ]
  },
  {
   "cell_type": "code",
   "execution_count": null,
   "metadata": {},
   "outputs": [],
   "source": [
    "fname = readdir(path_config)[2:5001]\n",
    "idx = sortperm( parse.(Int64, fname))\n",
    "fname = fname[idx]\n",
    "em_n = \"VV\"\n",
    "\n",
    "cnfgarr = Vector{LMAConfig}(undef, 0)\n",
    "for f in fname\n",
    "    push!(cnfgarr, get_LMAConfig(joinpath(path_config, f), \"g5-g5\", em=em_n, bc=false))\n",
    "end"
   ]
  },
  {
   "cell_type": "markdown",
   "metadata": {},
   "source": [
    "## Splitting data in training and test sets"
   ]
  },
  {
   "cell_type": "code",
   "execution_count": null,
   "metadata": {},
   "outputs": [],
   "source": [
    "# Select a specific Tsource and divide data into training and test set for eigenvalues, rr re and ee components\n",
    "TSRC = \"24\"\n",
    "NCNFG = length(cnfgarr)\n",
    "TVALS = length(cnfgarr[1].data[\"rr\"][TSRC]) - 1\n",
    "if em_n == \"PA\"\n",
    "    EIGVALS = 32\n",
    "else \n",
    "    EIGVALS = 64\n",
    "end\n",
    "\n",
    "eigvals_data_train = Array{Float32}(undef, EIGVALS, 500)\n",
    "rr_data_train = Array{Float32}(undef, TVALS, 500)\n",
    "ee_data_train = Array{Float32}(undef, TVALS, 500)\n",
    "re_data_train = Array{Float32}(undef, TVALS, 500)\n",
    "\n",
    "eigvals_data_test = Array{Float64}(undef, EIGVALS, 4500)\n",
    "rr_data_test = Array{Float64}(undef, TVALS, 4500)\n",
    "ee_data_test = Array{Float64}(undef, TVALS, 4500)\n",
    "re_data_test = Array{Float64}(undef, TVALS, 4500)\n",
    "\n",
    "for (k, dd) in enumerate(getfield.(cnfgarr, :data)[1:500])\n",
    "    eigvals_data_train[:,k] = copy(cnfgarr[k].data[\"eigvals\"][1:EIGVALS])\n",
    "    rr_data_train[:,k] = getindex(getindex(dd, \"rr\"), TSRC)[2:end]\n",
    "    ee_data_train[:,k] = getindex(getindex(dd, \"ee\"), TSRC)[2:end]\n",
    "    re_data_train[:,k] = getindex(getindex(dd, \"re\"), TSRC)[2:end]\n",
    "end\n",
    "for (k, dd) in enumerate(getfield.(cnfgarr, :data)[501:5000])\n",
    "    eigvals_data_test[:,k] = copy(cnfgarr[k].data[\"eigvals\"][1:EIGVALS])\n",
    "    rr_data_test[:,k] = getindex(getindex(dd, \"rr\"), TSRC)[2:end]\n",
    "    ee_data_test[:,k] = getindex(getindex(dd, \"ee\"), TSRC)[2:end]\n",
    "    re_data_test[:,k] = getindex(getindex(dd, \"re\"), TSRC)[2:end]\n",
    "end"
   ]
  },
  {
   "cell_type": "markdown",
   "metadata": {},
   "source": [
    "## Defining training and test data"
   ]
  },
  {
   "cell_type": "code",
   "execution_count": null,
   "metadata": {},
   "outputs": [],
   "source": [
    "input_length = 2*TVALS + EIGVALS\n",
    "output_length = TVALS\n",
    "\n",
    "input_shape_train = vcat(1 ./ eigvals_data_train, ee_data_train, rr_data_train)\n",
    "output_shape_train = re_data_train\n",
    "\n",
    "input_shape_test = vcat(1 ./ eigvals_data_test, ee_data_test, rr_data_test)\n",
    "output_shape_test = re_data_test;"
   ]
  },
  {
   "cell_type": "markdown",
   "metadata": {},
   "source": [
    "### Input data, normalized and standardized"
   ]
  },
  {
   "cell_type": "code",
   "execution_count": null,
   "metadata": {},
   "outputs": [],
   "source": [
    "max_input_train = maximum(input_shape_train)\n",
    "min_input_train = minimum(input_shape_train)\n",
    "\n",
    "mean_input_train = mean(mean.([input_shape_train[:,i] for i in 1:train_size]))\n",
    "std_input_train = std(mean.([input_shape_train[:,i] for i in 1:train_size]))\n",
    "\n",
    "input_data_train_normalized = (input_shape_train .- max_input_train) ./ (max_input_train - min_input_train)\n",
    "input_data_train_standardized = (input_shape_train .- mean_input_train) ./ std_input_train\n",
    "\n",
    "input_data_test_normalized = (input_shape_test .- max_input_train) ./ (max_input_train - min_input_train)\n",
    "input_data_test_standardized = (input_shape_test .- mean_input_train) ./ std_input_train;"
   ]
  },
  {
   "cell_type": "markdown",
   "metadata": {},
   "source": [
    "### Output data, normalized and standardized"
   ]
  },
  {
   "cell_type": "code",
   "execution_count": null,
   "metadata": {},
   "outputs": [],
   "source": [
    "max_output_train = maximum(output_shape_train)\n",
    "min_output_train = minimum(output_shape_train)\n",
    "\n",
    "mean_output_train = mean(mean.([output_shape_train[:,i] for i in 1:train_size]))\n",
    "std_output_train = std(mean.([output_shape_train[:,i] for i in 1:train_size]))\n",
    "\n",
    "output_data_train_normalized = (output_shape_train .- max_output_train) ./ (max_output_train - min_output_train)\n",
    "output_data_train_standardized = (output_shape_train .- mean_output_train) ./ std_output_train;"
   ]
  },
  {
   "cell_type": "markdown",
   "metadata": {},
   "source": [
    "## Describing different Neural Networks"
   ]
  },
  {
   "cell_type": "markdown",
   "metadata": {},
   "source": [
    "We want to compare different Networks with respect to the parameters:\n",
    "\n",
    "- How many trainable variables has the Network?\n",
    "- How long does training take?\n",
    "- How good is the perfomance - measured by the standard deviation of the difference - with respect to\n",
    "     - How many configurations have been used for the bias correction"
   ]
  },
  {
   "cell_type": "code",
   "execution_count": null,
   "metadata": {},
   "outputs": [],
   "source": [
    "activation_function = NNlib.tanh\n",
    "\n",
    "models = [\n",
    "    Chain(\n",
    "    Dense(input_length => 1, activation_function),\n",
    "    Dense(1 => output_length, activation_function),\n",
    "    ),\n",
    "    Chain(\n",
    "    Dense(input_length => 10, activation_function),\n",
    "    Dense(10 => output_length, activation_function),\n",
    "    ),\n",
    "    Chain(\n",
    "    Dense(input_length => 10, activation_function),\n",
    "    Dense(10 => 10, activation_function),\n",
    "    Dense(10 => output_length, activation_function),\n",
    "    ),\n",
    "];"
   ]
  },
  {
   "cell_type": "code",
   "execution_count": null,
   "metadata": {},
   "outputs": [],
   "source": [
    "function loss(flux_model, x, y)\n",
    "    ŷ = flux_model(x)\n",
    "    Flux.mse(ŷ, y, agg=sum)\n",
    "end"
   ]
  },
  {
   "cell_type": "code",
   "execution_count": null,
   "metadata": {},
   "outputs": [],
   "source": [
    "using Flux:params\n",
    "\n",
    "optimizer = Flux.Adam(0.000001)\n",
    "loss_discription = \"MSE\"\n",
    "\n",
    "epochs = 100_000\n",
    "batch_size = 32\n",
    "\n",
    "percentages_bc = [0.0, 0.01, 0.02, 0.05, 0.1, 0.12]\n",
    "n_configs_bc = Int.(4500 .* percentages_bc)\n",
    "\n",
    "loader = Flux.DataLoader((input_data_train, target_train), batchsize=batch_size, shuffle=true)\n",
    "\n",
    "for model in models\n",
    "    parameters = 0\n",
    "    layers = params(model)\n",
    "    for layer in layers\n",
    "        parameters += length(hcat(layer...))\n",
    "    end\n",
    "\n",
    "    outputDirectory = \"/Users/lukasgeyer/Studium/Computational Sciences/Masterarbeit/Tool Allesandro/repo/LmaPredict/benchmarks/ee+rr+ev/$parameters\"\n",
    "\n",
    "    optim = Flux.setup(optimizer, model)\n",
    "    \n",
    "    function training()\n",
    "        losses = []\n",
    "        for epoch in 1:epochs\n",
    "            for (x, y) in loader\n",
    "                grads = gradient(m -> loss(m, x, y), model)\n",
    "                Flux.update!(optim, model, grads[1])\n",
    "                push!(losses,loss(model, x, y))\n",
    "            end\n",
    "        end\n",
    "        return losses\n",
    "    end\n",
    "\n",
    "    losses = training()\n",
    "    \n",
    "    out_of_sample_predictions = (model(input_data_test_normalized) .* (max_output_train - min_output_train)) .+ max_output_train\n",
    "\n",
    "    analyse_predictions(\n",
    "        out_of_sample_predictions,\n",
    "        output_shape_test,\n",
    "        TSRC,\n",
    "        EIGVALS,\n",
    "        model,\n",
    "        optimizer,\n",
    "        loss_function,\n",
    "        loss_discription,\n",
    "        epochs,\n",
    "        batch_size,\n",
    "        losses,\n",
    "        outputDirectory\n",
    "    )\n",
    "end"
   ]
  }
 ],
 "metadata": {
  "kernelspec": {
   "display_name": "Julia 1.10.1",
   "language": "julia",
   "name": "julia-1.10.1"
  },
  "language_info": {
   "file_extension": ".jl",
   "mimetype": "application/julia",
   "name": "julia",
   "version": "1.10.1"
  }
 },
 "nbformat": 4,
 "nbformat_minor": 4
}
