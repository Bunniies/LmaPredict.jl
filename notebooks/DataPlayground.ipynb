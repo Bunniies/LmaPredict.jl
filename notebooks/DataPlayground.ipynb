{
 "cells": [
  {
   "cell_type": "code",
   "execution_count": null,
   "id": "87546b14",
   "metadata": {
    "scrolled": true
   },
   "outputs": [],
   "source": [
    "import Pkg\n",
    "Pkg.activate(\"/Users/alessandroconigli/.julia/dev/LmaPredict\") # change to your local path to LmaPredict\n",
    "# this install all the packages required by LmaPredict and activate the environment"
   ]
  },
  {
   "cell_type": "code",
   "execution_count": null,
   "id": "242f121b",
   "metadata": {},
   "outputs": [],
   "source": [
    "using LmaPredict"
   ]
  },
  {
   "cell_type": "markdown",
   "id": "9f0fd51a",
   "metadata": {},
   "source": [
    "### Reading indivudual contributions to LMA\n",
    "\n",
    "    - rest-rest contribution for a given gamma structure and source position\n",
    "    - rest-eigen contribution for a given gamma structure and source position\n",
    "    - eigen-eigen for a given gamma structure and all detected source positions\n",
    "    \n",
    "    "
   ]
  },
  {
   "cell_type": "code",
   "execution_count": null,
   "id": "f6e48531",
   "metadata": {},
   "outputs": [],
   "source": [
    "# rr \n",
    "pp_rr = \"/Users/alessandroconigli/Lattice/data/HVP/LMA/A654/1/A654r000n1.mseigPArr_ts0.dat\"\n",
    "dat_rr = read_rest_rest(pp_rr, \"g5-g5\")\n"
   ]
  },
  {
   "cell_type": "code",
   "execution_count": null,
   "id": "a3b6b6bd",
   "metadata": {},
   "outputs": [],
   "source": [
    "# re\n",
    "pp_re = \"/Users/alessandroconigli/Lattice/data/HVP/LMA/A654/1/A654r000n1.mseigPAre_ts0.dat\"\n",
    "# no bias correction\n",
    "data_re = read_rest_eigen(pp_re, \"g5-g5\", bc=false)\n",
    "\n",
    "# read bias correction\n",
    "data_re, data_re_bc = read_rest_eigen(pp_re, \"g5-g5\", bc=true)\n",
    "\n",
    "\n"
   ]
  },
  {
   "cell_type": "code",
   "execution_count": null,
   "id": "ac705894",
   "metadata": {},
   "outputs": [],
   "source": [
    "# ee\n",
    "pp_ee = \"/Users/alessandroconigli/Lattice/data/HVP/LMA/A654/1/A654r000n1.mseigPAee.dat\"\n",
    "data_ee = read_eigen_eigen(pp_ee, \"g5-g5\")\n"
   ]
  },
  {
   "cell_type": "markdown",
   "id": "5feaeae8",
   "metadata": {},
   "source": [
    "### Reading all contributions and detected noise sources detected\n",
    "\n",
    "In practice it can be useful to read simultaneously all the possible \"rr\", \"re\" and \"ee\" contributions for a given config, a given gamma structure and all the source position detected. This is achieved with the `get_LMAConfig` method, that returns a `LMAConfig` struct containing all the data\n"
   ]
  },
  {
   "cell_type": "code",
   "execution_count": null,
   "id": "5fa0d7cc",
   "metadata": {},
   "outputs": [],
   "source": [
    "path_config = \"/Users/alessandroconigli/Lattice/data/HVP/LMA/A654/1\"\n",
    "lmacnfg = get_LMAConfig(path_config, \"g5-g5\", em=\"PA\", bc=true) \n",
    "# here em=\"PA\" or em=\"VV\" selects between 32 and 64 eigenmodes, respectively. bc set to true reads the bias correction for \"re\" contribution"
   ]
  },
  {
   "cell_type": "code",
   "execution_count": null,
   "id": "0b7c1ef0",
   "metadata": {},
   "outputs": [],
   "source": [
    "# configuration analysed\n",
    "lmacnfg.ncnfg"
   ]
  },
  {
   "cell_type": "code",
   "execution_count": null,
   "id": "95333ceb",
   "metadata": {},
   "outputs": [],
   "source": [
    "# selected gamma structure \n",
    "lmacnfg.gamma"
   ]
  },
  {
   "cell_type": "code",
   "execution_count": null,
   "id": "65865d8a",
   "metadata": {},
   "outputs": [],
   "source": [
    "# number of eigenmodes\n",
    "lmacnfg.eigmodes"
   ]
  },
  {
   "cell_type": "code",
   "execution_count": null,
   "id": "b7f0b1ee",
   "metadata": {},
   "outputs": [],
   "source": [
    "# accessing the data\n",
    "lmacnfg.data # dictionary with an entry for each possible contribution"
   ]
  },
  {
   "cell_type": "code",
   "execution_count": null,
   "id": "4683cb35",
   "metadata": {},
   "outputs": [],
   "source": [
    "# within a given contribution, you can access the available source positions\n",
    "lmacnfg.data[\"rr\"] # in this case we have 4 possible source positions at 0, 12, 24, 36"
   ]
  },
  {
   "cell_type": "code",
   "execution_count": null,
   "id": "3229aaf1",
   "metadata": {},
   "outputs": [],
   "source": [
    "# actual rr contributions for source position 0\n",
    "lmacnfg.data[\"rr\"][\"0\"]"
   ]
  },
  {
   "cell_type": "code",
   "execution_count": null,
   "id": "98af0a69",
   "metadata": {},
   "outputs": [],
   "source": []
  }
 ],
 "metadata": {
  "kernelspec": {
   "display_name": "Julia 1.7.3",
   "language": "julia",
   "name": "julia-1.7"
  },
  "language_info": {
   "file_extension": ".jl",
   "mimetype": "application/julia",
   "name": "julia",
   "version": "1.7.3"
  }
 },
 "nbformat": 4,
 "nbformat_minor": 5
}
